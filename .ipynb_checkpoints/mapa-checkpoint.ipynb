{
 "cells": [
  {
   "cell_type": "code",
   "execution_count": 17,
   "metadata": {},
   "outputs": [],
   "source": [
    "import folium\n",
    "import branca\n",
    "import pandas as pd"
   ]
  },
  {
   "cell_type": "code",
   "execution_count": null,
   "metadata": {},
   "outputs": [],
   "source": [
    "path_geojson = 'C:/Users/Ricardo/Documents/PROYECTO_FINAL/data/Londres/neighbourhoods.geojson'\n",
    "london_coordinates = [51.5074,-0.1278]"
   ]
  },
  {
   "cell_type": "code",
   "execution_count": 25,
   "metadata": {},
   "outputs": [
    {
     "name": "stderr",
     "output_type": "stream",
     "text": [
      "C:\\Users\\Ricardo\\Anaconda4\\lib\\site-packages\\IPython\\core\\interactiveshell.py:2785: DtypeWarning: Columns (61,62,94) have mixed types. Specify dtype option on import or set low_memory=False.\n",
      "  interactivity=interactivity, compiler=compiler, result=result)\n"
     ]
    }
   ],
   "source": [
    "listings_london = pd.read_csv('data/Londres/listings.csv')\n",
    "listings_london['price'] = listings_london['price'].str[1:] \n",
    "listings_london['price'] = listings_london['price'].map(lambda x : x.replace(',',''))\n",
    "listings_london['price'] = pd.to_numeric(listings_london['price'])"
   ]
  },
  {
   "cell_type": "code",
   "execution_count": 83,
   "metadata": {},
   "outputs": [],
   "source": [
    "vecindarios_mas_costosos = list(listings_london.groupby('neighbourhood')['price'].mean().sort_values().index)\n",
    "colorscale = branca.colormap.linear.PuRd_09.scale(0, 148)\n",
    "d = {}\n",
    "for i in range(len(vecindarios_mas_costosos)):\n",
    "    d[vecindarios_mas_costosos[i]] = i\n"
   ]
  },
  {
   "cell_type": "code",
   "execution_count": 155,
   "metadata": {},
   "outputs": [],
   "source": [
    "def style_function_colores(feature):\n",
    "    escala = 0\n",
    "    vecindario_mapa = feature['properties']['neighbourhood']\n",
    "    for vecindario_lista in vecindarios_mas_costosos:\n",
    "        if vecindario_mapa in vecindario_lista:\n",
    "            escala = d[vecindario_lista]\n",
    "            print(\"hol\")\n",
    "        return {\n",
    "            'fillOpacity': 0.5,\n",
    "            'weight': 0,\n",
    "            'fillColor': colorscale(escala)\n",
    "        }\n",
    "    "
   ]
  },
  {
   "cell_type": "code",
   "execution_count": 156,
   "metadata": {},
   "outputs": [],
   "source": [
    "mapa = folium.Map(location = london_coordinates,zoom_start = 12)"
   ]
  },
  {
   "cell_type": "code",
   "execution_count": 157,
   "metadata": {},
   "outputs": [
    {
     "data": {
      "text/plain": [
       "<folium.features.GeoJson at 0x20052d15320>"
      ]
     },
     "execution_count": 157,
     "metadata": {},
     "output_type": "execute_result"
    }
   ],
   "source": [
    "folium.GeoJson(path_geojson,name='Vecindarios',style_function=style_function_colores).add_to(mapa)"
   ]
  },
  {
   "cell_type": "code",
   "execution_count": 158,
   "metadata": {},
   "outputs": [],
   "source": [
    "mapa.save('mapa.html')"
   ]
  },
  {
   "cell_type": "code",
   "execution_count": 113,
   "metadata": {},
   "outputs": [
    {
     "data": {
      "text/plain": [
       "array(['LB of Islington', 'Chelsea', 'City of Westminster',\n",
       "       'LB of Wandsworth', 'Wimbledon', 'LB of Barnet', 'Earls Court',\n",
       "       'LB of Hounslow', 'LB of Camden', 'LB of Richmond upon Thames',\n",
       "       'LB of Haringey', 'Hackney', 'LB of Southwark', 'LB of Croydon',\n",
       "       'LB of Tower Hamlets', \"Shepherd's Bush\",\n",
       "       'LB of Hammersmith & Fulham', 'Peckham', 'Southwark', 'Stratford',\n",
       "       'Hammersmith', 'RB of Kensington and Chelsea', 'Fulham',\n",
       "       'LB of Brent', 'De Beauvoir Town', 'Hampstead', 'Westbourne Green',\n",
       "       'LB of Hackney', 'LB of Lambeth', 'South Lambeth', 'Belgravia',\n",
       "       'LB of Ealing', 'Whitechapel/Brick Lane', 'Isle of Dogs',\n",
       "       'LB of Newham', 'LB of Waltham Forest', 'Camberwell',\n",
       "       'LB of Merton', 'LB of Lewisham', 'Battersea', 'Islington',\n",
       "       'LB of Bromley', 'Clerkenwell', 'LB of Havering', 'Walworth',\n",
       "       'Vauxhall', 'Paddington', 'Bayswater', 'Notting Hill', 'Canonbury',\n",
       "       'Bethnal Green', 'Kensington', 'Nine Elms', 'LB of Enfield',\n",
       "       'City of London', 'Pimlico', 'Dalston', 'Stockwell', 'Marylebone',\n",
       "       'Primrose Hill', 'Rotherhithe', 'LB of Barking and Dagenham',\n",
       "       'Shoreditch', 'Kennington', 'Sands End', 'Stoke Newington',\n",
       "       'South Bank', 'Upper Tooting', 'Bow', 'St. Pancras', 'Streatham',\n",
       "       'The West End', 'Fitzrovia', 'Bellingham', 'RB of Greenwich',\n",
       "       'LB of Hillingdon', 'Lee', 'Perry Vale', 'Acton', 'Bloomsbury',\n",
       "       'LB of Harrow', 'Camden Town', 'East Dulwich', 'Lewisham',\n",
       "       'LB of Redbridge', 'Brixton', 'Clapham', 'Nunhead', 'LB of Bexley',\n",
       "       'Brockley', 'Lower Streatham', 'Greenwich', 'Wapping',\n",
       "       'Haggerston', 'Putney', 'Mayfair', 'Downham', 'Lambeth',\n",
       "       'RB of Kingston upon Thames', 'Westminster', 'Herne Hill',\n",
       "       'Poplar', 'West Dulwich', 'Hither Green', 'West Norwood',\n",
       "       'Parsons Green', 'Deptford', 'Covent Garden', 'Sydenham',\n",
       "       'Tulse Hill', 'Stepney', 'Forest Hill', 'New Cross', 'Globe Town',\n",
       "       'Bermondsey', 'Earlsfield', 'Dulwich', 'Bromley-by-Bow', 'Soho',\n",
       "       'Wandsworth', 'Somers Town', \"St. John's Wood\", 'Holland Park',\n",
       "       'Knightsbridge', 'Richmond', \"St. Luke's\", 'Blackheath',\n",
       "       'Mile End', 'Dulwich Village', 'Balham', 'Maida Vale', 'Holborn',\n",
       "       'Shadwell', 'Beckenham', 'Crystal Palace', 'Lisson Grove',\n",
       "       'Kings Cross', 'LB of Sutton', 'Millbank', 'Southfields',\n",
       "       'Catford', 'Roehampton', 'Limehouse', 'Putney Heath', 'Honor Oak',\n",
       "       'Grove Park', 'Furzedown', nan, 'Tooting Bec', \"St. James's\"],\n",
       "      dtype=object)"
      ]
     },
     "execution_count": 113,
     "metadata": {},
     "output_type": "execute_result"
    }
   ],
   "source": [
    "listings_london['neighbourhood'].unique()"
   ]
  },
  {
   "cell_type": "code",
   "execution_count": null,
   "metadata": {},
   "outputs": [],
   "source": []
  }
 ],
 "metadata": {
  "kernelspec": {
   "display_name": "Python 3",
   "language": "python",
   "name": "python3"
  },
  "language_info": {
   "codemirror_mode": {
    "name": "ipython",
    "version": 3
   },
   "file_extension": ".py",
   "mimetype": "text/x-python",
   "name": "python",
   "nbconvert_exporter": "python",
   "pygments_lexer": "ipython3",
   "version": "3.6.5"
  }
 },
 "nbformat": 4,
 "nbformat_minor": 2
}
